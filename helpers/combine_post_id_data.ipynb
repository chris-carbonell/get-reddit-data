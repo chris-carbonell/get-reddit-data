{
 "cells": [
  {
   "cell_type": "markdown",
   "id": "70d2e886-ecdf-49a8-a603-1c86f8108dee",
   "metadata": {},
   "source": [
    "# Overview\n",
    "* combine post ID CSVs"
   ]
  },
  {
   "cell_type": "markdown",
   "id": "406a89fe-ea0f-4e12-8aee-51fb54d67e00",
   "metadata": {},
   "source": [
    "# Dependencies"
   ]
  },
  {
   "cell_type": "code",
   "execution_count": null,
   "id": "c069b2fe-61f4-4742-8927-36eac73090c4",
   "metadata": {},
   "outputs": [],
   "source": [
    "import glob\n",
    "import pandas as pd"
   ]
  },
  {
   "cell_type": "markdown",
   "id": "1c6ecaa8-5680-40df-839e-403af2d74991",
   "metadata": {},
   "source": [
    "# Get Data & Combine"
   ]
  },
  {
   "cell_type": "code",
   "execution_count": null,
   "id": "71c76834-bd9a-43a9-842d-83a604867df1",
   "metadata": {},
   "outputs": [],
   "source": [
    "%%time\n",
    "ls_dfs = []\n",
    "for path_csv in glob.glob(\"./data/*post_ids*.csv\"):\n",
    "    ls_dfs.append(pd.read_csv(path_csv))\n",
    "    \n",
    "df_all = pd.concat(ls_dfs, ignore_index=True)"
   ]
  },
  {
   "cell_type": "code",
   "execution_count": null,
   "id": "76c0b56d-13c5-45a5-9349-8543c1fada27",
   "metadata": {},
   "outputs": [],
   "source": [
    "df_all.head(5)"
   ]
  },
  {
   "cell_type": "markdown",
   "id": "0326f239-f7e0-4a72-82a2-5f3552b52136",
   "metadata": {},
   "source": [
    "# Scrub"
   ]
  },
  {
   "cell_type": "code",
   "execution_count": null,
   "id": "406d45bf-6936-499c-9cc2-d41fbe5b8cae",
   "metadata": {},
   "outputs": [],
   "source": [
    "df_final = df_all.copy(deep=True)"
   ]
  },
  {
   "cell_type": "code",
   "execution_count": null,
   "id": "245152ae-e466-4217-a100-a9bccb265311",
   "metadata": {},
   "outputs": [],
   "source": [
    "# convert strings to utf-8\n",
    "for col in df_all.columns:\n",
    "    if df_final[col].dtype == \"object\":\n",
    "        print(col)\n",
    "        df_final[col] = df_final[col].str.strip(\"b\\'\\\"\")"
   ]
  },
  {
   "cell_type": "markdown",
   "id": "79999c21-a125-4f45-8e95-bfcb69ed99e8",
   "metadata": {
    "tags": []
   },
   "source": [
    "# Verify"
   ]
  },
  {
   "cell_type": "code",
   "execution_count": null,
   "id": "54f8e2ac-429a-48d2-a7f6-f0f7a165383d",
   "metadata": {},
   "outputs": [],
   "source": [
    "df_final.head(10)"
   ]
  },
  {
   "cell_type": "markdown",
   "id": "2884179a-d538-4453-8986-244c80fb0044",
   "metadata": {},
   "source": [
    "# Save"
   ]
  },
  {
   "cell_type": "code",
   "execution_count": null,
   "id": "14a532f2-fbd8-4564-a43b-56e4436f87e2",
   "metadata": {},
   "outputs": [],
   "source": [
    "df_final.to_csv(\"./data/post_ids.csv\", index=False)"
   ]
  }
 ],
 "metadata": {
  "kernelspec": {
   "display_name": "csug",
   "language": "python",
   "name": "csug"
  },
  "language_info": {
   "codemirror_mode": {
    "name": "ipython",
    "version": 3
   },
   "file_extension": ".py",
   "mimetype": "text/x-python",
   "name": "python",
   "nbconvert_exporter": "python",
   "pygments_lexer": "ipython3",
   "version": "3.9.7"
  }
 },
 "nbformat": 4,
 "nbformat_minor": 5
}
