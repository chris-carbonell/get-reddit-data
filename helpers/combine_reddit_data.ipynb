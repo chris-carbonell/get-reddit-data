{
 "cells": [
  {
   "cell_type": "markdown",
   "id": "70d2e886-ecdf-49a8-a603-1c86f8108dee",
   "metadata": {},
   "source": [
    "# Overview\n",
    "* combine reddit data CSVs before scrubbing and modeling"
   ]
  },
  {
   "cell_type": "markdown",
   "id": "406a89fe-ea0f-4e12-8aee-51fb54d67e00",
   "metadata": {},
   "source": [
    "# Dependencies"
   ]
  },
  {
   "cell_type": "code",
   "execution_count": null,
   "id": "c069b2fe-61f4-4742-8927-36eac73090c4",
   "metadata": {},
   "outputs": [],
   "source": [
    "# general\n",
    "import glob\n",
    "import os\n",
    "from pathlib import Path\n",
    "\n",
    "# data\n",
    "import pandas as pd"
   ]
  },
  {
   "cell_type": "markdown",
   "id": "f66c9a95-0a8a-457b-81ad-0b4cff411595",
   "metadata": {},
   "source": [
    "# Constants"
   ]
  },
  {
   "cell_type": "code",
   "execution_count": null,
   "id": "e1e40a79-cce8-4c09-901b-55e518be6989",
   "metadata": {},
   "outputs": [],
   "source": [
    "str_path_root = \"data\"  # root dir with reddit data CSVs\n",
    "str_path_output = \"./data/reddit_data_combined.csv\""
   ]
  },
  {
   "cell_type": "markdown",
   "id": "1c6ecaa8-5680-40df-839e-403af2d74991",
   "metadata": {},
   "source": [
    "# Get Data & Combine"
   ]
  },
  {
   "cell_type": "code",
   "execution_count": null,
   "id": "71c76834-bd9a-43a9-842d-83a604867df1",
   "metadata": {},
   "outputs": [],
   "source": [
    "%%time\n",
    "ls_dfs = []\n",
    "for path in Path(str_path_root).rglob(\"*reddit_data*.csv\"):\n",
    "    str_path_reddit_data = os.path.join(path.parent.name, path.name)\n",
    "    ls_dfs.append(pd.read_csv(str_path_reddit_data))\n",
    "    \n",
    "df_all = pd.concat(ls_dfs, ignore_index=True)"
   ]
  },
  {
   "cell_type": "code",
   "execution_count": null,
   "id": "76c0b56d-13c5-45a5-9349-8543c1fada27",
   "metadata": {},
   "outputs": [],
   "source": [
    "df_all.head(5)"
   ]
  },
  {
   "cell_type": "markdown",
   "id": "2884179a-d538-4453-8986-244c80fb0044",
   "metadata": {},
   "source": [
    "# Save"
   ]
  },
  {
   "cell_type": "code",
   "execution_count": null,
   "id": "14a532f2-fbd8-4564-a43b-56e4436f87e2",
   "metadata": {},
   "outputs": [],
   "source": [
    "df_final.to_csv(str_path_output, index=False)"
   ]
  }
 ],
 "metadata": {
  "kernelspec": {
   "display_name": "csug",
   "language": "python",
   "name": "csug"
  },
  "language_info": {
   "codemirror_mode": {
    "name": "ipython",
    "version": 3
   },
   "file_extension": ".py",
   "mimetype": "text/x-python",
   "name": "python",
   "nbconvert_exporter": "python",
   "pygments_lexer": "ipython3",
   "version": "3.9.7"
  }
 },
 "nbformat": 4,
 "nbformat_minor": 5
}
