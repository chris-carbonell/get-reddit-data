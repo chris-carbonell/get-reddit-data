{
 "cells": [
  {
   "cell_type": "markdown",
   "id": "4cf95d92-108a-47d1-bfc5-9710d4ca580f",
   "metadata": {},
   "source": [
    "# Overview\n",
    "* get list of IDs to scrape after excluding IDs that have already been scrubbed\n",
    "* split input file for multiprocessing"
   ]
  },
  {
   "cell_type": "markdown",
   "id": "99d45042-d0a0-4f28-833f-8178d5cbc328",
   "metadata": {},
   "source": [
    "# Dependencies"
   ]
  },
  {
   "cell_type": "code",
   "execution_count": null,
   "id": "47b96d40-c871-4ccc-b759-100cd4537494",
   "metadata": {},
   "outputs": [],
   "source": [
    "# general\n",
    "import glob\n",
    "import math\n",
    "\n",
    "# data\n",
    "import pandas as pd"
   ]
  },
  {
   "cell_type": "markdown",
   "id": "44371414-8e47-471c-aa68-bf1638dc46a0",
   "metadata": {},
   "source": [
    "# Get All Post IDs"
   ]
  },
  {
   "cell_type": "code",
   "execution_count": null,
   "id": "98593f64-efea-46f9-b093-e130bdb61da7",
   "metadata": {},
   "outputs": [],
   "source": [
    "df_data_raw = pd.read_csv(\"./data/post_ids.csv\")"
   ]
  },
  {
   "cell_type": "code",
   "execution_count": null,
   "id": "956d47d1-4bea-4854-bad9-7db349d80fcb",
   "metadata": {},
   "outputs": [],
   "source": [
    "# remove ignorable selftext\n",
    "gone_list = [\"[deleted]\", \"[removed]\", \"\"]\n",
    "df_data_raw = df_data_raw[df_data_raw['selftext'].isin(gone_list) == False]"
   ]
  },
  {
   "cell_type": "code",
   "execution_count": null,
   "id": "623f1bb9-d44f-4fa5-88a3-093f5e1b6512",
   "metadata": {},
   "outputs": [],
   "source": [
    "# remove low scores\n",
    "# actually, we shouldn't do this here. the score can change"
   ]
  },
  {
   "cell_type": "code",
   "execution_count": null,
   "id": "976fb18a-4c01-4c5c-ade2-8e257c4aad31",
   "metadata": {},
   "outputs": [],
   "source": [
    "ls_all = df_data_raw['id'].tolist()"
   ]
  },
  {
   "cell_type": "code",
   "execution_count": null,
   "id": "745a5899-5ba8-4e50-9c4d-94b1d6c8d46f",
   "metadata": {},
   "outputs": [],
   "source": [
    "len(ls_all)"
   ]
  },
  {
   "cell_type": "markdown",
   "id": "3d3860db-8ba9-4f11-8353-ea5bb6063f5b",
   "metadata": {},
   "source": [
    "# Remove Dupes"
   ]
  },
  {
   "cell_type": "code",
   "execution_count": null,
   "id": "dfa5d43e-33ba-46c6-bb96-90bb4e339e33",
   "metadata": {},
   "outputs": [],
   "source": [
    "ls_all = list(set(ls_all))"
   ]
  },
  {
   "cell_type": "code",
   "execution_count": null,
   "id": "9398ab26-4985-48a7-b761-b787cd1f91c9",
   "metadata": {},
   "outputs": [],
   "source": [
    "len(ls_all)"
   ]
  },
  {
   "cell_type": "markdown",
   "id": "0e861e6b-0b62-4864-9a5d-fc966ff87ba3",
   "metadata": {},
   "source": [
    "# Get IDs from Successfully Written"
   ]
  },
  {
   "cell_type": "code",
   "execution_count": null,
   "id": "37865559-58ba-4e83-96b4-13fc10180d95",
   "metadata": {},
   "outputs": [],
   "source": [
    "# get all successfully written data\n",
    "ls_reddit_data = glob.glob(\"./data/*reddit_data*.csv\")\n",
    "ls_reddit_data"
   ]
  },
  {
   "cell_type": "code",
   "execution_count": null,
   "id": "ec15dd96-8dd0-4add-b7b9-3dbd916fc253",
   "metadata": {},
   "outputs": [],
   "source": [
    "ls_reddit_data_ids = []\n",
    "for str_path_reddit_data in ls_reddit_data:\n",
    "    df_temp = pd.read_csv(str_path_reddit_data, usecols=['id'], encoding=\"cp1252\")\n",
    "    ls_temp_ids = df_temp['id'].tolist()\n",
    "    ls_reddit_data_ids = ls_reddit_data_ids + ls_temp_ids\n",
    "    \n",
    "    # log\n",
    "    print(\", \".join([str_path_reddit_data, str(len(ls_temp_ids))]))\n",
    "    \n",
    "# # keep unique ids\n",
    "# ls_reddit_data_ids = list(set(ls_reddit_data_ids))"
   ]
  },
  {
   "cell_type": "code",
   "execution_count": null,
   "id": "b8b7ed59-0121-443f-a4dd-4c734641c27b",
   "metadata": {},
   "outputs": [],
   "source": [
    "len(ls_reddit_data_ids)"
   ]
  },
  {
   "cell_type": "markdown",
   "id": "6e2e5826-1b71-4ded-a7b6-554bf4f72ac8",
   "metadata": {},
   "source": [
    "# Get IDs from Errors"
   ]
  },
  {
   "cell_type": "code",
   "execution_count": null,
   "id": "9b911e31-783f-4768-a601-71f656a2e2b4",
   "metadata": {},
   "outputs": [],
   "source": [
    "# get all successfully written data\n",
    "ls_errors = glob.glob(\"./data/*post_ids_error*.csv\")\n",
    "ls_errors"
   ]
  },
  {
   "cell_type": "code",
   "execution_count": null,
   "id": "920c19e7-c491-4487-a2ae-d80b75aa40a4",
   "metadata": {},
   "outputs": [],
   "source": [
    "ls_error_ids = []\n",
    "for str_path_error in ls_errors:\n",
    "    df_temp = pd.read_csv(str_path_error, usecols=[1], encoding=\"cp1252\", header=None)\n",
    "    df_temp.columns = ['id']\n",
    "    ls_temp_ids = df_temp['id'].tolist()\n",
    "    ls_error_ids = ls_error_ids + ls_temp_ids\n",
    "    \n",
    "    # log\n",
    "    print(\", \".join([str_path_error, str(len(ls_temp_ids))]))\n",
    "    \n",
    "# # keep unique ids\n",
    "# ls_error_ids = list(set(ls_error_ids))  # get unique ids"
   ]
  },
  {
   "cell_type": "code",
   "execution_count": null,
   "id": "474efa01-e57d-4aba-aaa4-5f89460a1e06",
   "metadata": {},
   "outputs": [],
   "source": [
    "len(ls_error_ids)"
   ]
  },
  {
   "cell_type": "markdown",
   "id": "28e37406-8f2e-45a2-8d04-28f2fb7de143",
   "metadata": {},
   "source": [
    "# Get IDs from Logs"
   ]
  },
  {
   "cell_type": "code",
   "execution_count": null,
   "id": "39cd9feb-1c0b-4b04-8b79-0cf9b06a7b41",
   "metadata": {},
   "outputs": [],
   "source": [
    "# get all logs\n",
    "ls_logs = glob.glob(\"./data/log*.txt\")\n",
    "ls_logs"
   ]
  },
  {
   "cell_type": "code",
   "execution_count": null,
   "id": "6ab5b355-2f12-4ad2-8fb4-bb33c10fe720",
   "metadata": {},
   "outputs": [],
   "source": [
    "str_root_id_line = \"Target Post ID: \"\n",
    "\n",
    "counter = 0\n",
    "\n",
    "ls_log_ids = []\n",
    "for str_path_log in ls_logs:\n",
    "    \n",
    "    counter_log = 0\n",
    "    with open(str_path_log, \"r\") as f_log:\n",
    "\n",
    "        # get lines\n",
    "        ls_lines = f_log.readlines()\n",
    "\n",
    "        # get ids\n",
    "        for line in ls_lines:\n",
    "            if line.startswith(str_root_id_line):\n",
    "                ls_log_ids.append(line.replace(str_root_id_line, \"\").replace(\"\\n\",\"\"))\n",
    "                counter_log += 1\n",
    "                \n",
    "    # log\n",
    "    print(\", \".join([str_path_log, str(counter_log)]))\n",
    "\n",
    "# # keep unique ids\n",
    "# ls_log_ids = list(set(ls_log_ids))"
   ]
  },
  {
   "cell_type": "code",
   "execution_count": null,
   "id": "e3a7ec29-723d-4ed7-9909-6ae42c7f7705",
   "metadata": {},
   "outputs": [],
   "source": [
    "len(ls_log_ids)"
   ]
  },
  {
   "cell_type": "markdown",
   "id": "097aa60c-e4af-428c-a212-4ab9fb7a1ff3",
   "metadata": {},
   "source": [
    "# Combine All Scrubbed IDs"
   ]
  },
  {
   "cell_type": "code",
   "execution_count": null,
   "id": "f77d4d03-5e87-4270-a2fd-fcadfe95a7d9",
   "metadata": {},
   "outputs": [],
   "source": [
    "ls_scrubbed_ids = ls_reddit_data_ids + ls_error_ids + ls_log_ids\n",
    "ls_scrubbed_ids = list(set(ls_scrubbed_ids))  # keep unique"
   ]
  },
  {
   "cell_type": "code",
   "execution_count": null,
   "id": "3da1b9af-e0f9-4377-a965-2baf9f62c76c",
   "metadata": {},
   "outputs": [],
   "source": [
    "len(ls_scrubbed_ids)"
   ]
  },
  {
   "cell_type": "markdown",
   "id": "2d3ddc03-be3c-4582-b9ac-5c0598668bf6",
   "metadata": {},
   "source": [
    "# Remove Scrubbed IDs"
   ]
  },
  {
   "cell_type": "code",
   "execution_count": null,
   "id": "de99b933-04a6-4a4a-9a86-6303c3876150",
   "metadata": {},
   "outputs": [],
   "source": [
    "ls_split_me = list(set(ls_all).difference(set(ls_scrubbed_ids)))"
   ]
  },
  {
   "cell_type": "code",
   "execution_count": null,
   "id": "8cedb534-ccee-4b8c-9fe6-37df28603376",
   "metadata": {},
   "outputs": [],
   "source": [
    "num_total_post_ids = len(ls_split_me)\n",
    "num_total_post_ids"
   ]
  },
  {
   "cell_type": "code",
   "execution_count": null,
   "id": "44fbe260-61d8-4d3a-8615-4c84de75fabe",
   "metadata": {},
   "outputs": [],
   "source": [
    "num_chunks = 12\n",
    "chunk_size = math.ceil(num_total_post_ids/num_chunks)\n",
    "print(chunk_size)\n",
    "print(chunk_size * num_chunks >= num_total_post_ids)"
   ]
  },
  {
   "cell_type": "markdown",
   "id": "e7bfe482-dc3e-4400-827c-aa380bf3d912",
   "metadata": {},
   "source": [
    "# Split"
   ]
  },
  {
   "cell_type": "code",
   "execution_count": null,
   "id": "ba52e703-83d8-49db-92be-eb4fdc8bcb4c",
   "metadata": {},
   "outputs": [],
   "source": [
    "def chunks(l, n):\n",
    "    n = max(1, n)\n",
    "    return (l[i:i+n] for i in range(0, len(l), n))"
   ]
  },
  {
   "cell_type": "code",
   "execution_count": null,
   "id": "cbea212b-0f41-47ec-9370-5ae95defad04",
   "metadata": {},
   "outputs": [],
   "source": [
    "%%time\n",
    "counter = 0\n",
    "for chunk in chunks(ls_split_me, chunk_size):\n",
    "    with open(f'./data/post_ids_{str(counter).zfill(2)}.csv', 'w', newline='') as f:\n",
    "        f.writelines(f\"{item}\\n\" for item in chunk)\n",
    "    counter += 1"
   ]
  }
 ],
 "metadata": {
  "kernelspec": {
   "display_name": "csug",
   "language": "python",
   "name": "csug"
  },
  "language_info": {
   "codemirror_mode": {
    "name": "ipython",
    "version": 3
   },
   "file_extension": ".py",
   "mimetype": "text/x-python",
   "name": "python",
   "nbconvert_exporter": "python",
   "pygments_lexer": "ipython3",
   "version": "3.9.7"
  }
 },
 "nbformat": 4,
 "nbformat_minor": 5
}
