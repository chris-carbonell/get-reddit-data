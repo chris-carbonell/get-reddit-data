{
 "cells": [
  {
   "cell_type": "markdown",
   "id": "dff6e503-4453-4edf-953e-6683d6cf2750",
   "metadata": {},
   "source": [
    "# Overview\n",
    "* scrape one submission"
   ]
  },
  {
   "cell_type": "markdown",
   "id": "95fcbcbc-42f4-45b3-8232-73b3df52056d",
   "metadata": {},
   "source": [
    "# Dependencies"
   ]
  },
  {
   "cell_type": "code",
   "execution_count": null,
   "id": "f3058f84-9a5f-43e3-ac1c-bec7025c3082",
   "metadata": {},
   "outputs": [],
   "source": [
    "# jupyter\n",
    "from IPython.display import clear_output, display\n",
    "\n",
    "# general\n",
    "import datetime\n",
    "import os\n",
    "import re\n",
    "import time\n",
    "\n",
    "# data\n",
    "import csv\n",
    "import requests\n",
    "import json\n",
    "import pandas as pd\n",
    "import praw"
   ]
  },
  {
   "cell_type": "markdown",
   "id": "79673e96-4b00-4914-932e-3e3837f9cad5",
   "metadata": {},
   "source": [
    "# Constants"
   ]
  },
  {
   "cell_type": "code",
   "execution_count": null,
   "id": "8c224112-0fdd-40fb-ba38-3f3ba979eb4b",
   "metadata": {},
   "outputs": [],
   "source": [
    "gbl_YYYYMMDDHHMM = datetime.datetime.now().strftime('%Y-%m-%d %H%M')\n",
    "path_post_id_data = f\"./data/{gbl_YYYYMMDDHHMM}_post_ids.csv\"\n",
    "path_post_id_data_error = f\"./data/{gbl_YYYYMMDDHHMM}__post_ids_error.csv\"\n",
    "path_reddit_data = f\"./data/{gbl_YYYYMMDDHHMM}_reddit_data.csv\"\n",
    "path_praw_config = \"./config/praw.json\"\n",
    "\n",
    "threshold_score_minimum = 3  # score must be greater than this to get scraped"
   ]
  },
  {
   "cell_type": "markdown",
   "id": "34b2346c-a6ae-4f89-a437-74a94f73ac70",
   "metadata": {},
   "source": [
    "# Funcs"
   ]
  },
  {
   "cell_type": "code",
   "execution_count": null,
   "id": "6030b326-31a3-452e-a7f8-6b8ebc0306df",
   "metadata": {},
   "outputs": [],
   "source": [
    "def getValueForCSV(val):\n",
    "    if isinstance(val, str):\n",
    "\n",
    "        # clean up weird newline characters\n",
    "        val_clean = re.sub(\n",
    "            r\"\\\\t|\\\\n|\\\\r\",\n",
    "            \"\",\n",
    "            re.sub(\n",
    "                \"\\t|\\n|\\r\",\n",
    "                \"\",\n",
    "                val\n",
    "            )\n",
    "        )\n",
    "\n",
    "        return str(val_clean.encode(\"cp1252\", \"ignore\")).strip(\"b\\'\\\"\") # encode string\n",
    "\n",
    "    else:\n",
    "        return val"
   ]
  },
  {
   "cell_type": "markdown",
   "id": "5f1a2e50-0888-4657-81df-3788b0d92f92",
   "metadata": {},
   "source": [
    "# Get PRAW Config"
   ]
  },
  {
   "cell_type": "code",
   "execution_count": null,
   "id": "be574cc4-3484-41c4-b6e0-e34df0f7ccb5",
   "metadata": {},
   "outputs": [],
   "source": [
    "with open(path_praw_config) as f:\n",
    "    keys = json.load(f)"
   ]
  },
  {
   "cell_type": "markdown",
   "id": "f3bea8d8-0ba3-4075-a866-858ae6993125",
   "metadata": {},
   "source": [
    "# Get Reddit API Client"
   ]
  },
  {
   "cell_type": "code",
   "execution_count": null,
   "id": "cc83a740-35cb-4281-8032-3fe11a7b5f09",
   "metadata": {},
   "outputs": [],
   "source": [
    "reddit = praw.Reddit(client_id=keys['client_id'],\n",
    "                     client_secret=keys['client_secret'],\n",
    "                     user_agent=keys['user_agent'])"
   ]
  },
  {
   "cell_type": "code",
   "execution_count": null,
   "id": "e3781e5b-d589-45af-9030-f087251dde63",
   "metadata": {},
   "outputs": [],
   "source": [
    "# test\n",
    "print(reddit.read_only)"
   ]
  },
  {
   "cell_type": "markdown",
   "id": "302e7750-014c-4779-8f29-dcd10fc5227e",
   "metadata": {},
   "source": [
    "# Get Post IDs"
   ]
  },
  {
   "cell_type": "code",
   "execution_count": null,
   "id": "efa3d048-c4e7-44a8-877e-94547ce83746",
   "metadata": {},
   "outputs": [],
   "source": [
    "# all\n",
    "# df_post_id_data = pd.read_csv(path_post_id_data)\n",
    "# ls_post_ids = df_post_id_data['id'].tolist()"
   ]
  },
  {
   "cell_type": "code",
   "execution_count": null,
   "id": "d384a638-9eb8-4eb5-a0ff-0b2ef03c4c35",
   "metadata": {},
   "outputs": [],
   "source": [
    "# just one\n",
    "ls_post_ids = [\"mmp4t\"]"
   ]
  },
  {
   "cell_type": "markdown",
   "id": "ecda70f9-73b3-4916-af9d-d3709978010b",
   "metadata": {},
   "source": [
    "# Get Reddit Data"
   ]
  },
  {
   "cell_type": "code",
   "execution_count": null,
   "id": "58dbf5d7-81e3-49cb-b92b-55fb2d3ce509",
   "metadata": {
    "tags": []
   },
   "outputs": [],
   "source": [
    "start_time = time.time()\n",
    "\n",
    "bool_header = not os.path.exists(path_reddit_data)\n",
    "\n",
    "with open(path_reddit_data, \"a\", newline='', encoding=\"cp1252\") as f:\n",
    "\n",
    "    # set up output file\n",
    "    writer = csv.writer(f, quoting=csv.QUOTE_ALL)\n",
    "    if bool_header:\n",
    "        header = [\"id\", \"url\", \"timestamp\", \"title\", \"selftext\", \"edited\", \"link_flair_text\", \"score\", \"num_comments\", \"upvote_ratio\"]\n",
    "        writer.writerow(header)\n",
    "\n",
    "    # get data\n",
    "    counter = 0             # total post count\n",
    "    counter_success = 0     # count of posts successfully written\n",
    "    counter_min = 0         # count of posts not meeting minimum score\n",
    "    counter_ignore = 0      # count of posts with ignorable text\n",
    "    counter_errors = 0      # count of posts that ran into an error\n",
    "    for idx in ls_post_ids:\n",
    "\n",
    "        # counter\n",
    "        counter += 1  # i.e., counter is 1-indexed\n",
    "\n",
    "        # clean idx\n",
    "        idx = idx.replace(\"\\n\", \"\")\n",
    "\n",
    "        # log\n",
    "        print(f\"Total Post Count: {counter}\")\n",
    "        print(f\"Time Elapsed (min): {round((time.time() - start_time)/60, 2)}\")\n",
    "        print(f\"Target Post ID: {idx}\")\n",
    "\n",
    "        # get reddit instance\n",
    "        try:\n",
    "            if reddit.auth.limits['remaining'] == 0:\n",
    "                reddit = praw.Reddit(client_id=keys['client_id'],\n",
    "                         client_secret=keys['client_secret'],\n",
    "                         user_agent=keys['user_agent'])\n",
    "        except:\n",
    "            reddit = praw.Reddit(client_id=keys['client_id'],\n",
    "                         client_secret=keys['client_secret'],\n",
    "                         user_agent=keys['user_agent'])\n",
    "\n",
    "        # get submission\n",
    "        try:\n",
    "            post = reddit.submission(idx)\n",
    "            score = post.score\n",
    "            url = getValueForCSV(post.url)\n",
    "\n",
    "            # log\n",
    "            print(f\"Target Post Link: {url}\")\n",
    "            \n",
    "        except Exception as e:\n",
    "            counter_errors += 1\n",
    "            # save errors for debugging\n",
    "\n",
    "            with open(path_post_id_data_error, \"a\", newline='', encoding=\"cp1252\") as f_errors:\n",
    "                try:\n",
    "                    f_errors.write(\", \".join([\"requesting\", str(idx), \"\", url, str(e)]) + \"\\n\")\n",
    "\n",
    "                    # log\n",
    "                    print(f\"Target Post Link: {url}\")\n",
    "                except:\n",
    "                    f_errors.write(\", \".join([\"requesting\", str(idx), \"\", \"\", str(e)]) + \"\\n\")\n",
    "\n",
    "                    # log\n",
    "                    print(f\"Target Post Link: none found\")\n",
    "\n",
    "            continue\n",
    "\n",
    "        # log\n",
    "        print(reddit.auth.limits)\n",
    "\n",
    "        # get data\n",
    "        if score >= threshold_score_minimum:\n",
    "\n",
    "            selftext = getValueForCSV(post.selftext)\n",
    "\n",
    "            # check selftext\n",
    "            if selftext in ls_ignore_selftext:\n",
    "                counter_ignore += 1\n",
    "                print(\"Result: ignorable selftext\")\n",
    "                print()\n",
    "                continue\n",
    "\n",
    "            title = getValueForCSV(post.title)\n",
    "            edited = post.edited\n",
    "            num_comments = post.num_comments\n",
    "            created_utc = datetime.datetime.utcfromtimestamp(post.created_utc)\n",
    "            upvote_ratio = post.upvote_ratio\n",
    "\n",
    "            link_flair_text = getValueForCSV(post.link_flair_text)\n",
    "            if not link_flair_text:\n",
    "                link_flair_text = None\n",
    "\n",
    "            line_stuff = [idx, url, created_utc, title, selftext, edited, link_flair_text, score, num_comments, upvote_ratio]\n",
    "\n",
    "            # write\n",
    "            try:\n",
    "                counter_success += 1\n",
    "                writer.writerow(line_stuff)\n",
    "                print(\"Result: successfully written\")\n",
    "            except Exception as e:\n",
    "                # save errors for debugging\n",
    "                counter_errors += 1\n",
    "                with open(path_post_id_data_error, \"a\", newline='', encoding=\"cp1252\") as f_errors:\n",
    "                    f_errors.write(\", \".join([\"writing\", str(idx), title, url, str(e)]) + \"\\n\")\n",
    "                print(\"Result: error in writing\")\n",
    "\n",
    "        else:\n",
    "            counter_min += 1\n",
    "            print(\"Result: minimum score threshold not met\")\n",
    "\n",
    "        # prep for next\n",
    "\n",
    "        print()  # newline for log\n",
    "\n",
    "        url = None\n",
    "        created_utc = None\n",
    "        title = None\n",
    "        selftext = None\n",
    "        edited = None\n",
    "        link_flair_text = None\n",
    "        score = None\n",
    "        num_comments = None\n",
    "        upvote_ratio = None\n",
    "        line_stuff = None\n",
    "\n",
    "        time.sleep(0.2)  # 0.1 hit rate limits"
   ]
  }
 ],
 "metadata": {
  "kernelspec": {
   "display_name": "csug",
   "language": "python",
   "name": "csug"
  },
  "language_info": {
   "codemirror_mode": {
    "name": "ipython",
    "version": 3
   },
   "file_extension": ".py",
   "mimetype": "text/x-python",
   "name": "python",
   "nbconvert_exporter": "python",
   "pygments_lexer": "ipython3",
   "version": "3.9.7"
  }
 },
 "nbformat": 4,
 "nbformat_minor": 5
}
